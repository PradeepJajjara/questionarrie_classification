{
  "nbformat": 4,
  "nbformat_minor": 0,
  "metadata": {
    "colab": {
      "name": "Exposys.ipynb",
      "provenance": []
    },
    "kernelspec": {
      "name": "python3",
      "display_name": "Python 3"
    },
    "accelerator": "GPU"
  },
  "cells": [
    {
      "cell_type": "code",
      "metadata": {
        "id": "NzXIe4uR-IRf",
        "colab_type": "code",
        "colab": {}
      },
      "source": [
        "data = '/content/drive/My Drive/Interview/Exposys/LabelledData (1).txt'"
      ],
      "execution_count": 1,
      "outputs": []
    },
    {
      "cell_type": "code",
      "metadata": {
        "id": "pUZwrd5PCJfc",
        "colab_type": "code",
        "colab": {
          "base_uri": "https://localhost:8080/",
          "height": 52
        },
        "outputId": "207ee8dd-ceeb-4bcf-a560-8f8da6482ca0"
      },
      "source": [
        "import pandas as pd\n",
        "import numpy as np \n",
        "import matplotlib.pyplot as plt\n",
        "import seaborn as sns"
      ],
      "execution_count": 2,
      "outputs": [
        {
          "output_type": "stream",
          "text": [
            "/usr/local/lib/python3.6/dist-packages/statsmodels/tools/_testing.py:19: FutureWarning: pandas.util.testing is deprecated. Use the functions in the public API at pandas.testing instead.\n",
            "  import pandas.util.testing as tm\n"
          ],
          "name": "stderr"
        }
      ]
    },
    {
      "cell_type": "markdown",
      "metadata": {
        "id": "iH-jLRiOn6EX",
        "colab_type": "text"
      },
      "source": [
        "Add a length column for visualization purposee"
      ]
    },
    {
      "cell_type": "code",
      "metadata": {
        "id": "zhAOdL1OCQTV",
        "colab_type": "code",
        "colab": {
          "base_uri": "https://localhost:8080/",
          "height": 72
        },
        "outputId": "d1457916-6530-475b-f188-20fa000dfee8"
      },
      "source": [
        "df = pd.read_table(data,  sep = ',,,',names=['text','label'],index_col=False)\n",
        "df['length'] = df['text'].apply(len)"
      ],
      "execution_count": 3,
      "outputs": [
        {
          "output_type": "stream",
          "text": [
            "/usr/local/lib/python3.6/dist-packages/ipykernel_launcher.py:1: ParserWarning: Falling back to the 'python' engine because the 'c' engine does not support regex separators (separators > 1 char and different from '\\s+' are interpreted as regex); you can avoid this warning by specifying engine='python'.\n",
            "  \"\"\"Entry point for launching an IPython kernel.\n"
          ],
          "name": "stderr"
        }
      ]
    },
    {
      "cell_type": "code",
      "metadata": {
        "id": "q4891U0UCXDk",
        "colab_type": "code",
        "colab": {
          "base_uri": "https://localhost:8080/",
          "height": 197
        },
        "outputId": "750c7da6-838a-4ebf-ba6f-a9a7e2874496"
      },
      "source": [
        "df.head()"
      ],
      "execution_count": 4,
      "outputs": [
        {
          "output_type": "execute_result",
          "data": {
            "text/html": [
              "<div>\n",
              "<style scoped>\n",
              "    .dataframe tbody tr th:only-of-type {\n",
              "        vertical-align: middle;\n",
              "    }\n",
              "\n",
              "    .dataframe tbody tr th {\n",
              "        vertical-align: top;\n",
              "    }\n",
              "\n",
              "    .dataframe thead th {\n",
              "        text-align: right;\n",
              "    }\n",
              "</style>\n",
              "<table border=\"1\" class=\"dataframe\">\n",
              "  <thead>\n",
              "    <tr style=\"text-align: right;\">\n",
              "      <th></th>\n",
              "      <th>text</th>\n",
              "      <th>label</th>\n",
              "      <th>length</th>\n",
              "    </tr>\n",
              "  </thead>\n",
              "  <tbody>\n",
              "    <tr>\n",
              "      <th>0</th>\n",
              "      <td>how did serfdom develop in and then leave russ...</td>\n",
              "      <td>unknown</td>\n",
              "      <td>51</td>\n",
              "    </tr>\n",
              "    <tr>\n",
              "      <th>1</th>\n",
              "      <td>what films featured the character popeye doyle ?</td>\n",
              "      <td>what</td>\n",
              "      <td>49</td>\n",
              "    </tr>\n",
              "    <tr>\n",
              "      <th>2</th>\n",
              "      <td>how can i find a list of celebrities ' real na...</td>\n",
              "      <td>unknown</td>\n",
              "      <td>52</td>\n",
              "    </tr>\n",
              "    <tr>\n",
              "      <th>3</th>\n",
              "      <td>what fowl grabs the spotlight after the chines...</td>\n",
              "      <td>what</td>\n",
              "      <td>69</td>\n",
              "    </tr>\n",
              "    <tr>\n",
              "      <th>4</th>\n",
              "      <td>what is the full form of .com ?</td>\n",
              "      <td>what</td>\n",
              "      <td>32</td>\n",
              "    </tr>\n",
              "  </tbody>\n",
              "</table>\n",
              "</div>"
            ],
            "text/plain": [
              "                                                text     label  length\n",
              "0  how did serfdom develop in and then leave russ...   unknown      51\n",
              "1  what films featured the character popeye doyle ?       what      49\n",
              "2  how can i find a list of celebrities ' real na...   unknown      52\n",
              "3  what fowl grabs the spotlight after the chines...      what      69\n",
              "4                   what is the full form of .com ?       what      32"
            ]
          },
          "metadata": {
            "tags": []
          },
          "execution_count": 4
        }
      ]
    },
    {
      "cell_type": "code",
      "metadata": {
        "id": "YACyQUXwCYTT",
        "colab_type": "code",
        "colab": {
          "base_uri": "https://localhost:8080/",
          "height": 332
        },
        "outputId": "f469de26-3005-4e74-822a-f0e406554c28"
      },
      "source": [
        "df.label.value_counts().plot(kind='bar')"
      ],
      "execution_count": 5,
      "outputs": [
        {
          "output_type": "execute_result",
          "data": {
            "text/plain": [
              "<matplotlib.axes._subplots.AxesSubplot at 0x7f2d38984f98>"
            ]
          },
          "metadata": {
            "tags": []
          },
          "execution_count": 5
        },
        {
          "output_type": "display_data",
          "data": {
            "image/png": "[encoded data removed]",
            "text/plain": [
              "<Figure size 432x288 with 1 Axes>"
            ]
          },
          "metadata": {
            "tags": [],
            "needs_background": "light"
          }
        }
      ]
    },
    {
      "cell_type": "markdown",
      "metadata": {
        "id": "DLKW2kteoCXu",
        "colab_type": "text"
      },
      "source": [
        "Some have white spaces so remove them"
      ]
    },
    {
      "cell_type": "code",
      "metadata": {
        "id": "8t0YiM5Seq8q",
        "colab_type": "code",
        "colab": {}
      },
      "source": [
        "df.label = df.label.str.strip()"
      ],
      "execution_count": 6,
      "outputs": []
    },
    {
      "cell_type": "code",
      "metadata": {
        "id": "KF6dJuREjmhc",
        "colab_type": "code",
        "colab": {
          "base_uri": "https://localhost:8080/",
          "height": 327
        },
        "outputId": "370434cc-c814-4859-8cd1-1ec325178fd7"
      },
      "source": [
        "df.label.value_counts().plot(kind='bar')"
      ],
      "execution_count": 7,
      "outputs": [
        {
          "output_type": "execute_result",
          "data": {
            "text/plain": [
              "<matplotlib.axes._subplots.AxesSubplot at 0x7f2d383c4b38>"
            ]
          },
          "metadata": {
            "tags": []
          },
          "execution_count": 7
        },
        {
          "output_type": "display_data",
          "data": {
            "image/png": "[encoded data removed]",
            "text/plain": [
              "<Figure size 432x288 with 1 Axes>"
            ]
          },
          "metadata": {
            "tags": [],
            "needs_background": "light"
          }
        }
      ]
    },
    {
      "cell_type": "code",
      "metadata": {
        "id": "66CnhzoZjjCw",
        "colab_type": "code",
        "colab": {
          "base_uri": "https://localhost:8080/",
          "height": 282
        },
        "outputId": "7be4d523-90ac-4910-b434-f5a57a36970d"
      },
      "source": [
        "df['length'].plot(bins=50, kind='hist')"
      ],
      "execution_count": 8,
      "outputs": [
        {
          "output_type": "execute_result",
          "data": {
            "text/plain": [
              "<matplotlib.axes._subplots.AxesSubplot at 0x7f2d383b1048>"
            ]
          },
          "metadata": {
            "tags": []
          },
          "execution_count": 8
        },
        {
          "output_type": "display_data",
          "data": {
            "image/png": "[encoded data removed]",
            "text/plain": [
              "<Figure size 432x288 with 1 Axes>"
            ]
          },
          "metadata": {
            "tags": [],
            "needs_background": "light"
          }
        }
      ]
    },
    {
      "cell_type": "code",
      "metadata": {
        "id": "YH3ss7aUZAbz",
        "colab_type": "code",
        "colab": {
          "base_uri": "https://localhost:8080/",
          "height": 176
        },
        "outputId": "a5ebd065-1fe7-4249-be9a-99b563fa84bd"
      },
      "source": [
        "from sklearn.preprocessing import LabelEncoder as le\n",
        "print(df.describe())"
      ],
      "execution_count": 9,
      "outputs": [
        {
          "output_type": "stream",
          "text": [
            "            length\n",
            "count  1483.000000\n",
            "mean     49.689144\n",
            "std      19.692057\n",
            "min      13.000000\n",
            "25%      35.000000\n",
            "50%      47.000000\n",
            "75%      60.000000\n",
            "max     173.000000\n"
          ],
          "name": "stdout"
        }
      ]
    },
    {
      "cell_type": "code",
      "metadata": {
        "id": "u5GQGSjkZF7I",
        "colab_type": "code",
        "colab": {
          "base_uri": "https://localhost:8080/",
          "height": 34
        },
        "outputId": "202c6ad5-f24c-4511-992b-7dd1a38b88d3"
      },
      "source": [
        "\n",
        "df['label'].unique()"
      ],
      "execution_count": 10,
      "outputs": [
        {
          "output_type": "execute_result",
          "data": {
            "text/plain": [
              "array(['unknown', 'what', 'when', 'who', 'affirmation'], dtype=object)"
            ]
          },
          "metadata": {
            "tags": []
          },
          "execution_count": 10
        }
      ]
    },
    {
      "cell_type": "code",
      "metadata": {
        "id": "NeIYPi_pZNtM",
        "colab_type": "code",
        "colab": {
          "base_uri": "https://localhost:8080/",
          "height": 34
        },
        "outputId": "a3c355d0-8eda-41ff-e5f5-8aad8bf4cd65"
      },
      "source": [
        "label_encoder = le()\n",
        "df['labels']= label_encoder.fit_transform(df['label']) \n",
        "\n",
        "df['labels'].unique()"
      ],
      "execution_count": 11,
      "outputs": [
        {
          "output_type": "execute_result",
          "data": {
            "text/plain": [
              "array([1, 2, 3, 4, 0])"
            ]
          },
          "metadata": {
            "tags": []
          },
          "execution_count": 11
        }
      ]
    },
    {
      "cell_type": "markdown",
      "metadata": {
        "id": "rQ3IOCHGoJMH",
        "colab_type": "text"
      },
      "source": [
        "Max length is around 170"
      ]
    },
    {
      "cell_type": "code",
      "metadata": {
        "id": "u49jck0-ZbVk",
        "colab_type": "code",
        "colab": {}
      },
      "source": [
        "classes = {0:'affirmation',1:'unknown',2:'what',3:'when',4:'who'}"
      ],
      "execution_count": 12,
      "outputs": []
    },
    {
      "cell_type": "code",
      "metadata": {
        "id": "bEOwr_qBZ5v5",
        "colab_type": "code",
        "colab": {
          "base_uri": "https://localhost:8080/",
          "height": 34
        },
        "outputId": "d1553980-5d34-4e09-ee49-edee9d80b893"
      },
      "source": [
        "classes[0]"
      ],
      "execution_count": 13,
      "outputs": [
        {
          "output_type": "execute_result",
          "data": {
            "text/plain": [
              "'affirmation'"
            ]
          },
          "metadata": {
            "tags": []
          },
          "execution_count": 13
        }
      ]
    },
    {
      "cell_type": "code",
      "metadata": {
        "id": "MZkjskwUCa_D",
        "colab_type": "code",
        "colab": {
          "base_uri": "https://localhost:8080/",
          "height": 70
        },
        "outputId": "1db0bef8-fa0a-464b-b2a9-529b2b91c379"
      },
      "source": [
        "import warnings\n",
        "warnings.filterwarnings('ignore')\n",
        "import sklearn\n",
        "import nltk\n",
        "from sklearn.feature_extraction.text import CountVectorizer as CV\n",
        "from sklearn.feature_extraction.text import TfidfTransformer as TF\n",
        "from sklearn.model_selection import train_test_split as tts\n",
        "from sklearn.naive_bayes import MultinomialNB as MB\n",
        "from sklearn.pipeline import Pipeline\n",
        "import string\n",
        "from nltk.corpus import stopwords\n",
        "from nltk.stem.porter import PorterStemmer\n",
        "pt = PorterStemmer()\n",
        "nltk.download('stopwords')"
      ],
      "execution_count": 14,
      "outputs": [
        {
          "output_type": "stream",
          "text": [
            "[nltk_data] Downloading package stopwords to /root/nltk_data...\n",
            "[nltk_data]   Unzipping corpora/stopwords.zip.\n"
          ],
          "name": "stdout"
        },
        {
          "output_type": "execute_result",
          "data": {
            "text/plain": [
              "True"
            ]
          },
          "metadata": {
            "tags": []
          },
          "execution_count": 14
        }
      ]
    },
    {
      "cell_type": "markdown",
      "metadata": {
        "id": "g8UMUQz2oV7x",
        "colab_type": "text"
      },
      "source": [
        "Expect question words such as \"what,when\" make a list of removable stopwords"
      ]
    },
    {
      "cell_type": "code",
      "metadata": {
        "id": "JRfZDeQVFF7i",
        "colab_type": "code",
        "colab": {
          "base_uri": "https://localhost:8080/",
          "height": 34
        },
        "outputId": "7ac0e9ee-002d-4b26-85c2-b5abee74d68d"
      },
      "source": [
        "questions = ['what', 'which', 'who', 'whom','when', 'where', 'why', 'how', 'shan', \"shan't\", 'shouldn', \"shouldn't\", 'wasn', \"wasn't\", 'weren', \"weren't\", 'won', \"won't\", 'wouldn', \"wouldn't\"]\n",
        "stop_words = [ i for i in stopwords.words('english') if i not in questions]\n",
        "print(len(stop_words))"
      ],
      "execution_count": 15,
      "outputs": [
        {
          "output_type": "stream",
          "text": [
            "159\n"
          ],
          "name": "stdout"
        }
      ]
    },
    {
      "cell_type": "markdown",
      "metadata": {
        "id": "IRLYfiFpogVw",
        "colab_type": "text"
      },
      "source": [
        "Create a simple preprocess function"
      ]
    },
    {
      "cell_type": "code",
      "metadata": {
        "id": "KiEuSWKEF9FY",
        "colab_type": "code",
        "colab": {}
      },
      "source": [
        "def text_p(mess):\n",
        "    nopunc = [x for x in mess if x not in string.punctuation]\n",
        "    nopunc = ''.join(nopunc)\n",
        "    \n",
        "    return [pt.stem(w) for w in nopunc.split() if w.lower() not in stop_words]"
      ],
      "execution_count": 16,
      "outputs": []
    },
    {
      "cell_type": "markdown",
      "metadata": {
        "id": "Q0NJnFp6ok_-",
        "colab_type": "text"
      },
      "source": [
        "use countvectorizer and pass it to multinomial naive bayes model\n"
      ]
    },
    {
      "cell_type": "code",
      "metadata": {
        "id": "GwjnLGu3GLkE",
        "colab_type": "code",
        "colab": {}
      },
      "source": [
        "nb = Pipeline([('vect', CV()),\n",
        "               ('clf', MB()),\n",
        "              ])"
      ],
      "execution_count": 17,
      "outputs": []
    },
    {
      "cell_type": "code",
      "metadata": {
        "id": "dqwFAg2vGUu0",
        "colab_type": "code",
        "colab": {}
      },
      "source": [
        "X = df['text']\n",
        "Y = df['label']\n",
        "X_train, X_test, y_train, y_test = tts(X, Y, random_state = 42, test_size = 0.15)"
      ],
      "execution_count": 18,
      "outputs": []
    },
    {
      "cell_type": "code",
      "metadata": {
        "id": "qfuvC775G0_4",
        "colab_type": "code",
        "colab": {}
      },
      "source": [
        "labels = list(df.label.value_counts().index)"
      ],
      "execution_count": 19,
      "outputs": []
    },
    {
      "cell_type": "code",
      "metadata": {
        "id": "FO4plGweHCRl",
        "colab_type": "code",
        "colab": {
          "base_uri": "https://localhost:8080/",
          "height": 34
        },
        "outputId": "e47dda9a-b322-409e-a10c-483e40c4116e"
      },
      "source": [
        "labels"
      ],
      "execution_count": 20,
      "outputs": [
        {
          "output_type": "execute_result",
          "data": {
            "text/plain": [
              "['what', 'who', 'unknown', 'affirmation', 'when']"
            ]
          },
          "metadata": {
            "tags": []
          },
          "execution_count": 20
        }
      ]
    },
    {
      "cell_type": "code",
      "metadata": {
        "id": "IXjcOldrHeqE",
        "colab_type": "code",
        "colab": {
          "base_uri": "https://localhost:8080/",
          "height": 265
        },
        "outputId": "90d12a3d-acfd-4df9-a55a-cb1a9959b1ef"
      },
      "source": [
        "nb.fit(X_train,y_train)"
      ],
      "execution_count": 21,
      "outputs": [
        {
          "output_type": "execute_result",
          "data": {
            "text/plain": [
              "Pipeline(memory=None,\n",
              "         steps=[('vect',\n",
              "                 CountVectorizer(analyzer='word', binary=False,\n",
              "                                 decode_error='strict',\n",
              "                                 dtype=<class 'numpy.int64'>, encoding='utf-8',\n",
              "                                 input='content', lowercase=True, max_df=1.0,\n",
              "                                 max_features=None, min_df=1,\n",
              "                                 ngram_range=(1, 1), preprocessor=None,\n",
              "                                 stop_words=None, strip_accents=None,\n",
              "                                 token_pattern='(?u)\\\\b\\\\w\\\\w+\\\\b',\n",
              "                                 tokenizer=None, vocabulary=None)),\n",
              "                ('clf',\n",
              "                 MultinomialNB(alpha=1.0, class_prior=None, fit_prior=True))],\n",
              "         verbose=False)"
            ]
          },
          "metadata": {
            "tags": []
          },
          "execution_count": 21
        }
      ]
    },
    {
      "cell_type": "code",
      "metadata": {
        "id": "nTV__u8hHfuY",
        "colab_type": "code",
        "colab": {
          "base_uri": "https://localhost:8080/",
          "height": 247
        },
        "outputId": "2af1cfc1-80a6-40c8-a924-72b6193a34a8"
      },
      "source": [
        "from sklearn.metrics import classification_report\n",
        "from sklearn.metrics import accuracy_score, confusion_matrix\n",
        "y_pred = nb.predict(X_test)\n",
        "print('accuracy %s' % accuracy_score(y_pred, y_test))\n",
        "print(classification_report(y_test, y_pred,target_names=labels))"
      ],
      "execution_count": 22,
      "outputs": [
        {
          "output_type": "stream",
          "text": [
            "accuracy 0.8699551569506726\n",
            "              precision    recall  f1-score   support\n",
            "\n",
            "        what       0.88      0.50      0.64        14\n",
            "         who       0.91      0.71      0.80        42\n",
            "     unknown       0.79      0.99      0.88        86\n",
            " affirmation       1.00      0.38      0.56        13\n",
            "        when       0.96      0.99      0.97        68\n",
            "\n",
            "    accuracy                           0.87       223\n",
            "   macro avg       0.91      0.71      0.77       223\n",
            "weighted avg       0.88      0.87      0.86       223\n",
            "\n"
          ],
          "name": "stdout"
        }
      ]
    },
    {
      "cell_type": "markdown",
      "metadata": {
        "id": "Y0LC16DeoykJ",
        "colab_type": "text"
      },
      "source": [
        "Clearly our model did somewhat better on \"when\" but faile when comes to what and affirmation.\n",
        "\n",
        "Use a logistic regression classifier"
      ]
    },
    {
      "cell_type": "code",
      "metadata": {
        "id": "iW3XjtdDSBAX",
        "colab_type": "code",
        "colab": {
          "base_uri": "https://localhost:8080/",
          "height": 247
        },
        "outputId": "8da8b453-5fea-4d96-aa4e-27328256f504"
      },
      "source": [
        "from sklearn.linear_model import LogisticRegression\n",
        "\n",
        "logreg = Pipeline([('vect', CV(analyzer = text_p,ngram_range=[0,2])),\n",
        "                ('clf', LogisticRegression(verbose=1, solver='liblinear',random_state=0, C=5, penalty='l2',max_iter=1000)),\n",
        "               ])\n",
        "logreg.fit(X_train, y_train)\n",
        "\n",
        "\n",
        "\n",
        "y_pred = logreg.predict(X_test)\n",
        "\n",
        "print('accuracy %s' % accuracy_score(y_pred, y_test))\n",
        "print(classification_report(y_test, y_pred,target_names=labels))\n",
        "\n",
        "def get_top_k_predictions(model,X_test,k):\n",
        "    probs = model.predict_proba(X_test)\n",
        "    best_n = np.argsort(probs, axis=1)[:,-k:]\n",
        "    preds=[[model.classes_[predicted_cat] for predicted_cat in prediction] for prediction in best_n]\n",
        "    preds=[ item[::-1] for item in preds]\n",
        "    return preds\n",
        " "
      ],
      "execution_count": 23,
      "outputs": [
        {
          "output_type": "stream",
          "text": [
            "[LibLinear]accuracy 0.9641255605381166\n",
            "              precision    recall  f1-score   support\n",
            "\n",
            "        what       0.93      1.00      0.97        14\n",
            "         who       1.00      0.93      0.96        42\n",
            "     unknown       0.94      0.99      0.97        86\n",
            " affirmation       0.91      0.77      0.83        13\n",
            "        when       0.99      0.99      0.99        68\n",
            "\n",
            "    accuracy                           0.96       223\n",
            "   macro avg       0.95      0.93      0.94       223\n",
            "weighted avg       0.96      0.96      0.96       223\n",
            "\n"
          ],
          "name": "stdout"
        }
      ]
    },
    {
      "cell_type": "markdown",
      "metadata": {
        "id": "QEEPumbUpDBa",
        "colab_type": "text"
      },
      "source": [
        "Now clearly we have almost every f1-score around > 0.95 except for affirmation.\n",
        "Here, we are not capturing sequential info but only relying on words.\n",
        "Let's see more about that"
      ]
    },
    {
      "cell_type": "code",
      "metadata": {
        "id": "Kg4u2QA7YpF0",
        "colab_type": "code",
        "colab": {
          "base_uri": "https://localhost:8080/",
          "height": 212
        },
        "outputId": "cd675ca9-e2e4-4e87-9f1e-8124fe830ef7"
      },
      "source": [
        "\n",
        "test = df[df['label']=='unknown'].text.head(10)\n",
        "test"
      ],
      "execution_count": 24,
      "outputs": [
        {
          "output_type": "execute_result",
          "data": {
            "text/plain": [
              "0     how did serfdom develop in and then leave russ...\n",
              "2     how can i find a list of celebrities ' real na...\n",
              "9     name the scar-faced bounty hunter of the old w...\n",
              "11     why do heavier objects travel downhill faster ? \n",
              "17    how many jews were executed in concentration c...\n",
              "22                            name 11 famous martyrs . \n",
              "28                name a golf course in myrtle beach . \n",
              "29           which two states enclose chesapeake bay ? \n",
              "32    how many points make up a perfect fivepin bowl...\n",
              "33    which company that manufactures video-game har...\n",
              "Name: text, dtype: object"
            ]
          },
          "metadata": {
            "tags": []
          },
          "execution_count": 24
        }
      ]
    },
    {
      "cell_type": "code",
      "metadata": {
        "id": "M4AKg-h3kFLV",
        "colab_type": "code",
        "colab": {
          "base_uri": "https://localhost:8080/",
          "height": 194
        },
        "outputId": "f6e43da0-3d52-4aac-9738-a090334975f7"
      },
      "source": [
        "\n",
        "\n",
        "get_top_k_predictions(logreg,test,2)"
      ],
      "execution_count": 25,
      "outputs": [
        {
          "output_type": "execute_result",
          "data": {
            "text/plain": [
              "[['unknown', 'when'],\n",
              " ['unknown', 'when'],\n",
              " ['unknown', 'affirmation'],\n",
              " ['unknown', 'affirmation'],\n",
              " ['unknown', 'affirmation'],\n",
              " ['unknown', 'affirmation'],\n",
              " ['unknown', 'affirmation'],\n",
              " ['unknown', 'affirmation'],\n",
              " ['unknown', 'affirmation'],\n",
              " ['unknown', 'affirmation']]"
            ]
          },
          "metadata": {
            "tags": []
          },
          "execution_count": 25
        }
      ]
    },
    {
      "cell_type": "code",
      "metadata": {
        "id": "ojQyomnLyk6D",
        "colab_type": "code",
        "colab": {}
      },
      "source": [
        "text = df[df['label']=='when'].head(30).text\n",
        "org = ['when' for i in range(30)]\n",
        "pp = logreg.predict(text)"
      ],
      "execution_count": 26,
      "outputs": []
    },
    {
      "cell_type": "code",
      "metadata": {
        "id": "lFSqzdNv1qoD",
        "colab_type": "code",
        "colab": {}
      },
      "source": [
        "predictions = pd.DataFrame({'text': text, 'Original_label': org,'predicted_label' : pp})"
      ],
      "execution_count": 27,
      "outputs": []
    },
    {
      "cell_type": "code",
      "metadata": {
        "id": "5lgRtfhrzS1U",
        "colab_type": "code",
        "colab": {
          "base_uri": "https://localhost:8080/",
          "height": 947
        },
        "outputId": "4a53ffe7-f299-4a0f-a33c-965f09fece40"
      },
      "source": [
        "predictions"
      ],
      "execution_count": 28,
      "outputs": [
        {
          "output_type": "execute_result",
          "data": {
            "text/html": [
              "<div>\n",
              "<style scoped>\n",
              "    .dataframe tbody tr th:only-of-type {\n",
              "        vertical-align: middle;\n",
              "    }\n",
              "\n",
              "    .dataframe tbody tr th {\n",
              "        vertical-align: top;\n",
              "    }\n",
              "\n",
              "    .dataframe thead th {\n",
              "        text-align: right;\n",
              "    }\n",
              "</style>\n",
              "<table border=\"1\" class=\"dataframe\">\n",
              "  <thead>\n",
              "    <tr style=\"text-align: right;\">\n",
              "      <th></th>\n",
              "      <th>text</th>\n",
              "      <th>Original_label</th>\n",
              "      <th>predicted_label</th>\n",
              "    </tr>\n",
              "  </thead>\n",
              "  <tbody>\n",
              "    <tr>\n",
              "      <th>10</th>\n",
              "      <td>when was ozzy osbourne born ?</td>\n",
              "      <td>when</td>\n",
              "      <td>when</td>\n",
              "    </tr>\n",
              "    <tr>\n",
              "      <th>36</th>\n",
              "      <td>when did the neanderthal man live ?</td>\n",
              "      <td>when</td>\n",
              "      <td>when</td>\n",
              "    </tr>\n",
              "    <tr>\n",
              "      <th>90</th>\n",
              "      <td>when did cnn begin broadcasting ?</td>\n",
              "      <td>when</td>\n",
              "      <td>when</td>\n",
              "    </tr>\n",
              "    <tr>\n",
              "      <th>203</th>\n",
              "      <td>when did the royal wedding of prince andrew an...</td>\n",
              "      <td>when</td>\n",
              "      <td>when</td>\n",
              "    </tr>\n",
              "    <tr>\n",
              "      <th>228</th>\n",
              "      <td>when did beethoven die ?</td>\n",
              "      <td>when</td>\n",
              "      <td>when</td>\n",
              "    </tr>\n",
              "    <tr>\n",
              "      <th>250</th>\n",
              "      <td>when was the first steel mill in the united st...</td>\n",
              "      <td>when</td>\n",
              "      <td>when</td>\n",
              "    </tr>\n",
              "    <tr>\n",
              "      <th>260</th>\n",
              "      <td>when did mount st. helen last have a significa...</td>\n",
              "      <td>when</td>\n",
              "      <td>when</td>\n",
              "    </tr>\n",
              "    <tr>\n",
              "      <th>262</th>\n",
              "      <td>when did world war i start ?</td>\n",
              "      <td>when</td>\n",
              "      <td>when</td>\n",
              "    </tr>\n",
              "    <tr>\n",
              "      <th>279</th>\n",
              "      <td>when was the battle of the somme fought ?</td>\n",
              "      <td>when</td>\n",
              "      <td>when</td>\n",
              "    </tr>\n",
              "    <tr>\n",
              "      <th>282</th>\n",
              "      <td>when did spielberg direct `` jaws '' ?</td>\n",
              "      <td>when</td>\n",
              "      <td>when</td>\n",
              "    </tr>\n",
              "    <tr>\n",
              "      <th>395</th>\n",
              "      <td>what time of day did emperor hirohito die ?</td>\n",
              "      <td>when</td>\n",
              "      <td>when</td>\n",
              "    </tr>\n",
              "    <tr>\n",
              "      <th>415</th>\n",
              "      <td>when was the women 's suffrage amendment ratif...</td>\n",
              "      <td>when</td>\n",
              "      <td>when</td>\n",
              "    </tr>\n",
              "    <tr>\n",
              "      <th>425</th>\n",
              "      <td>what year did hitler die ?</td>\n",
              "      <td>when</td>\n",
              "      <td>what</td>\n",
              "    </tr>\n",
              "    <tr>\n",
              "      <th>448</th>\n",
              "      <td>when does the average teenager first have inte...</td>\n",
              "      <td>when</td>\n",
              "      <td>when</td>\n",
              "    </tr>\n",
              "    <tr>\n",
              "      <th>530</th>\n",
              "      <td>when did cnn go on the air ?</td>\n",
              "      <td>when</td>\n",
              "      <td>when</td>\n",
              "    </tr>\n",
              "    <tr>\n",
              "      <th>548</th>\n",
              "      <td>when was the battle of hastings ?</td>\n",
              "      <td>when</td>\n",
              "      <td>when</td>\n",
              "    </tr>\n",
              "    <tr>\n",
              "      <th>550</th>\n",
              "      <td>when did muhammad live ?</td>\n",
              "      <td>when</td>\n",
              "      <td>when</td>\n",
              "    </tr>\n",
              "    <tr>\n",
              "      <th>589</th>\n",
              "      <td>when reading classified ads , what does eenty ...</td>\n",
              "      <td>when</td>\n",
              "      <td>when</td>\n",
              "    </tr>\n",
              "    <tr>\n",
              "      <th>616</th>\n",
              "      <td>when is the site www.questions.com going to op...</td>\n",
              "      <td>when</td>\n",
              "      <td>when</td>\n",
              "    </tr>\n",
              "    <tr>\n",
              "      <th>628</th>\n",
              "      <td>when is bastille day ?</td>\n",
              "      <td>when</td>\n",
              "      <td>when</td>\n",
              "    </tr>\n",
              "    <tr>\n",
              "      <th>655</th>\n",
              "      <td>when was the first american encyclopedia publi...</td>\n",
              "      <td>when</td>\n",
              "      <td>when</td>\n",
              "    </tr>\n",
              "    <tr>\n",
              "      <th>864</th>\n",
              "      <td>when did the dow first reach ?</td>\n",
              "      <td>when</td>\n",
              "      <td>when</td>\n",
              "    </tr>\n",
              "    <tr>\n",
              "      <th>893</th>\n",
              "      <td>when was the san francisco fire ?</td>\n",
              "      <td>when</td>\n",
              "      <td>when</td>\n",
              "    </tr>\n",
              "    <tr>\n",
              "      <th>904</th>\n",
              "      <td>when was berlin 's brandenburg gate erected ?</td>\n",
              "      <td>when</td>\n",
              "      <td>when</td>\n",
              "    </tr>\n",
              "    <tr>\n",
              "      <th>960</th>\n",
              "      <td>when are sheep shorn ?</td>\n",
              "      <td>when</td>\n",
              "      <td>when</td>\n",
              "    </tr>\n",
              "    <tr>\n",
              "      <th>1004</th>\n",
              "      <td>what time does the flight leave ?</td>\n",
              "      <td>when</td>\n",
              "      <td>when</td>\n",
              "    </tr>\n",
              "    <tr>\n",
              "      <th>1005</th>\n",
              "      <td>what time does the train arrive ?</td>\n",
              "      <td>when</td>\n",
              "      <td>when</td>\n",
              "    </tr>\n",
              "    <tr>\n",
              "      <th>1006</th>\n",
              "      <td>what time do we go to the mall ?</td>\n",
              "      <td>when</td>\n",
              "      <td>when</td>\n",
              "    </tr>\n",
              "    <tr>\n",
              "      <th>1007</th>\n",
              "      <td>what time are we leaving ?</td>\n",
              "      <td>when</td>\n",
              "      <td>when</td>\n",
              "    </tr>\n",
              "    <tr>\n",
              "      <th>1008</th>\n",
              "      <td>what time does the president give his speech ?</td>\n",
              "      <td>when</td>\n",
              "      <td>when</td>\n",
              "    </tr>\n",
              "  </tbody>\n",
              "</table>\n",
              "</div>"
            ],
            "text/plain": [
              "                                                   text  ... predicted_label\n",
              "10                       when was ozzy osbourne born ?   ...            when\n",
              "36                 when did the neanderthal man live ?   ...            when\n",
              "90                   when did cnn begin broadcasting ?   ...            when\n",
              "203   when did the royal wedding of prince andrew an...  ...            when\n",
              "228                           when did beethoven die ?   ...            when\n",
              "250   when was the first steel mill in the united st...  ...            when\n",
              "260   when did mount st. helen last have a significa...  ...            when\n",
              "262                       when did world war i start ?   ...            when\n",
              "279          when was the battle of the somme fought ?   ...            when\n",
              "282             when did spielberg direct `` jaws '' ?   ...            when\n",
              "395        what time of day did emperor hirohito die ?   ...            when\n",
              "415   when was the women 's suffrage amendment ratif...  ...            when\n",
              "425                         what year did hitler die ?   ...            what\n",
              "448   when does the average teenager first have inte...  ...            when\n",
              "530                       when did cnn go on the air ?   ...            when\n",
              "548                  when was the battle of hastings ?   ...            when\n",
              "550                           when did muhammad live ?   ...            when\n",
              "589   when reading classified ads , what does eenty ...  ...            when\n",
              "616   when is the site www.questions.com going to op...  ...            when\n",
              "628                             when is bastille day ?   ...            when\n",
              "655   when was the first american encyclopedia publi...  ...            when\n",
              "864                     when did the dow first reach ?   ...            when\n",
              "893                  when was the san francisco fire ?   ...            when\n",
              "904      when was berlin 's brandenburg gate erected ?   ...            when\n",
              "960                             when are sheep shorn ?   ...            when\n",
              "1004                 what time does the flight leave ?   ...            when\n",
              "1005                 what time does the train arrive ?   ...            when\n",
              "1006                  what time do we go to the mall ?   ...            when\n",
              "1007                        what time are we leaving ?   ...            when\n",
              "1008    what time does the president give his speech ?   ...            when\n",
              "\n",
              "[30 rows x 3 columns]"
            ]
          },
          "metadata": {
            "tags": []
          },
          "execution_count": 28
        }
      ]
    },
    {
      "cell_type": "code",
      "metadata": {
        "id": "UKj0PPhzaY0p",
        "colab_type": "code",
        "colab": {
          "base_uri": "https://localhost:8080/",
          "height": 34
        },
        "outputId": "eecadc21-9a7c-46f9-a362-d1060d7156bc"
      },
      "source": [
        "logreg.predict(['when are sheep shorn ?'])"
      ],
      "execution_count": 29,
      "outputs": [
        {
          "output_type": "execute_result",
          "data": {
            "text/plain": [
              "array(['when'], dtype=object)"
            ]
          },
          "metadata": {
            "tags": []
          },
          "execution_count": 29
        }
      ]
    },
    {
      "cell_type": "markdown",
      "metadata": {
        "id": "obcqnux83WBQ",
        "colab_type": "text"
      },
      "source": [
        "\n",
        "The model did well in this case but mostly due to the unique word in those two questions starting with what"
      ]
    },
    {
      "cell_type": "markdown",
      "metadata": {
        "id": "ur3oEFq43PTw",
        "colab_type": "text"
      },
      "source": [
        "For better meaningfull classification we should do\n",
        "***Bidirectional LSTM with word embeddings***\n",
        "Because lstm is a sequential model that can remember long term dependencies and also embeddings are better way of representing words. Like similar words are grouped together through embeddings."
      ]
    },
    {
      "cell_type": "code",
      "metadata": {
        "id": "DgIrQWobSG3x",
        "colab_type": "code",
        "colab": {
          "base_uri": "https://localhost:8080/",
          "height": 123
        },
        "outputId": "9d77e166-ce0f-4e63-d215-c64b036c9ddd"
      },
      "source": [
        "df.label.value_counts()"
      ],
      "execution_count": 30,
      "outputs": [
        {
          "output_type": "execute_result",
          "data": {
            "text/plain": [
              "what           609\n",
              "who            402\n",
              "unknown        272\n",
              "affirmation    104\n",
              "when            96\n",
              "Name: label, dtype: int64"
            ]
          },
          "metadata": {
            "tags": []
          },
          "execution_count": 30
        }
      ]
    },
    {
      "cell_type": "code",
      "metadata": {
        "id": "jGFM47Ijmn5F",
        "colab_type": "code",
        "colab": {
          "base_uri": "https://localhost:8080/",
          "height": 34
        },
        "outputId": "bc4dea3d-8403-4eee-8b97-8ff98a887c6b"
      },
      "source": [
        "import numpy as np \n",
        "import pandas as pd \n",
        "from keras.layers import Dense, Embedding, LSTM, SpatialDropout1D,Bidirectional\n",
        "from keras.models import Sequential\n",
        "from sklearn.feature_extraction.text import CountVectorizer\n",
        "from keras.preprocessing.text import Tokenizer\n",
        "from keras.preprocessing.sequence import pad_sequences\n",
        "from sklearn.model_selection import train_test_split\n",
        "from keras.utils.np_utils import to_categorical\n",
        "from keras.callbacks import EarlyStopping\n",
        "\n",
        "\n",
        "import os"
      ],
      "execution_count": 31,
      "outputs": [
        {
          "output_type": "stream",
          "text": [
            "Using TensorFlow backend.\n"
          ],
          "name": "stderr"
        }
      ]
    },
    {
      "cell_type": "code",
      "metadata": {
        "id": "pc7cfwhrmusT",
        "colab_type": "code",
        "colab": {
          "base_uri": "https://localhost:8080/",
          "height": 406
        },
        "outputId": "0ae49458-b62d-446a-b4fc-db8d0d059d57"
      },
      "source": [
        "df"
      ],
      "execution_count": 32,
      "outputs": [
        {
          "output_type": "execute_result",
          "data": {
            "text/html": [
              "<div>\n",
              "<style scoped>\n",
              "    .dataframe tbody tr th:only-of-type {\n",
              "        vertical-align: middle;\n",
              "    }\n",
              "\n",
              "    .dataframe tbody tr th {\n",
              "        vertical-align: top;\n",
              "    }\n",
              "\n",
              "    .dataframe thead th {\n",
              "        text-align: right;\n",
              "    }\n",
              "</style>\n",
              "<table border=\"1\" class=\"dataframe\">\n",
              "  <thead>\n",
              "    <tr style=\"text-align: right;\">\n",
              "      <th></th>\n",
              "      <th>text</th>\n",
              "      <th>label</th>\n",
              "      <th>length</th>\n",
              "      <th>labels</th>\n",
              "    </tr>\n",
              "  </thead>\n",
              "  <tbody>\n",
              "    <tr>\n",
              "      <th>0</th>\n",
              "      <td>how did serfdom develop in and then leave russ...</td>\n",
              "      <td>unknown</td>\n",
              "      <td>51</td>\n",
              "      <td>1</td>\n",
              "    </tr>\n",
              "    <tr>\n",
              "      <th>1</th>\n",
              "      <td>what films featured the character popeye doyle ?</td>\n",
              "      <td>what</td>\n",
              "      <td>49</td>\n",
              "      <td>2</td>\n",
              "    </tr>\n",
              "    <tr>\n",
              "      <th>2</th>\n",
              "      <td>how can i find a list of celebrities ' real na...</td>\n",
              "      <td>unknown</td>\n",
              "      <td>52</td>\n",
              "      <td>1</td>\n",
              "    </tr>\n",
              "    <tr>\n",
              "      <th>3</th>\n",
              "      <td>what fowl grabs the spotlight after the chines...</td>\n",
              "      <td>what</td>\n",
              "      <td>69</td>\n",
              "      <td>2</td>\n",
              "    </tr>\n",
              "    <tr>\n",
              "      <th>4</th>\n",
              "      <td>what is the full form of .com ?</td>\n",
              "      <td>what</td>\n",
              "      <td>32</td>\n",
              "      <td>2</td>\n",
              "    </tr>\n",
              "    <tr>\n",
              "      <th>...</th>\n",
              "      <td>...</td>\n",
              "      <td>...</td>\n",
              "      <td>...</td>\n",
              "      <td>...</td>\n",
              "    </tr>\n",
              "    <tr>\n",
              "      <th>1478</th>\n",
              "      <td>can it be cut to fit ?</td>\n",
              "      <td>affirmation</td>\n",
              "      <td>23</td>\n",
              "      <td>0</td>\n",
              "    </tr>\n",
              "    <tr>\n",
              "      <th>1479</th>\n",
              "      <td>can it be removed ?</td>\n",
              "      <td>affirmation</td>\n",
              "      <td>20</td>\n",
              "      <td>0</td>\n",
              "    </tr>\n",
              "    <tr>\n",
              "      <th>1480</th>\n",
              "      <td>does this hose have one ?</td>\n",
              "      <td>affirmation</td>\n",
              "      <td>26</td>\n",
              "      <td>0</td>\n",
              "    </tr>\n",
              "    <tr>\n",
              "      <th>1481</th>\n",
              "      <td>can i get it in india ?</td>\n",
              "      <td>affirmation</td>\n",
              "      <td>24</td>\n",
              "      <td>0</td>\n",
              "    </tr>\n",
              "    <tr>\n",
              "      <th>1482</th>\n",
              "      <td>would this work on a 2008 ford edge with a nak...</td>\n",
              "      <td>affirmation</td>\n",
              "      <td>56</td>\n",
              "      <td>0</td>\n",
              "    </tr>\n",
              "  </tbody>\n",
              "</table>\n",
              "<p>1483 rows × 4 columns</p>\n",
              "</div>"
            ],
            "text/plain": [
              "                                                   text  ... labels\n",
              "0     how did serfdom develop in and then leave russ...  ...      1\n",
              "1     what films featured the character popeye doyle ?   ...      2\n",
              "2     how can i find a list of celebrities ' real na...  ...      1\n",
              "3     what fowl grabs the spotlight after the chines...  ...      2\n",
              "4                      what is the full form of .com ?   ...      2\n",
              "...                                                 ...  ...    ...\n",
              "1478                            can it be cut to fit ?   ...      0\n",
              "1479                               can it be removed ?   ...      0\n",
              "1480                         does this hose have one ?   ...      0\n",
              "1481                           can i get it in india ?   ...      0\n",
              "1482  would this work on a 2008 ford edge with a nak...  ...      0\n",
              "\n",
              "[1483 rows x 4 columns]"
            ]
          },
          "metadata": {
            "tags": []
          },
          "execution_count": 32
        }
      ]
    },
    {
      "cell_type": "code",
      "metadata": {
        "id": "Xpu2imhTriWm",
        "colab_type": "code",
        "colab": {
          "base_uri": "https://localhost:8080/",
          "height": 123
        },
        "outputId": "d458f5cd-5fd4-4040-a2bb-1555ab993920"
      },
      "source": [
        "df.label.value_counts()"
      ],
      "execution_count": 33,
      "outputs": [
        {
          "output_type": "execute_result",
          "data": {
            "text/plain": [
              "what           609\n",
              "who            402\n",
              "unknown        272\n",
              "affirmation    104\n",
              "when            96\n",
              "Name: label, dtype: int64"
            ]
          },
          "metadata": {
            "tags": []
          },
          "execution_count": 33
        }
      ]
    },
    {
      "cell_type": "code",
      "metadata": {
        "id": "CmOnEUetrqWk",
        "colab_type": "code",
        "colab": {
          "base_uri": "https://localhost:8080/",
          "height": 194
        },
        "outputId": "ea9695ae-be60-4e01-bbc6-023381d15ceb"
      },
      "source": [
        "df['class_name'] = 0\n",
        "df.loc[df['label'] == 'unknown', 'class_name'] = 0\n",
        "df.loc[df['label'] == 'what', 'class_name'] = 1\n",
        "df.loc[df['label'] == 'when', 'class_name'] = 2\n",
        "df.loc[df['label'] == 'who', 'class_name'] = 3\n",
        "df.loc[df['label'] == 'affirmation', 'class_name'] = 3\n",
        "print(df['class_name'][:5])\n",
        "labels = to_categorical(df['class_name'], num_classes=5)\n",
        "print(labels[:4])\n",
        "if 'label' in df.keys():\n",
        "    df.drop(['label'], axis=1)"
      ],
      "execution_count": 34,
      "outputs": [
        {
          "output_type": "stream",
          "text": [
            "0    0\n",
            "1    1\n",
            "2    0\n",
            "3    1\n",
            "4    1\n",
            "Name: class_name, dtype: int64\n",
            "[[1. 0. 0. 0. 0.]\n",
            " [0. 1. 0. 0. 0.]\n",
            " [1. 0. 0. 0. 0.]\n",
            " [0. 1. 0. 0. 0.]]\n"
          ],
          "name": "stdout"
        }
      ]
    },
    {
      "cell_type": "code",
      "metadata": {
        "id": "qXwIJUqR4i0b",
        "colab_type": "code",
        "colab": {}
      },
      "source": [
        "def create_embedding_matrix(filepath, word_index, embedding_dim):\n",
        "    vocab_size = len(word_index) + 1  # Adding again 1 because of reserved 0 index\n",
        "    embedding_matrix = np.zeros((vocab_size, embedding_dim))\n",
        "\n",
        "    with open(filepath) as f:\n",
        "        for line in f:\n",
        "            word, *vector = line.split()\n",
        "            if word in word_index:\n",
        "                idx = word_index[word] \n",
        "                embedding_matrix[idx] = np.array(\n",
        "                    vector, dtype=np.float32)[:embedding_dim]\n",
        "\n",
        "    return embedding_matrix"
      ],
      "execution_count": 35,
      "outputs": []
    },
    {
      "cell_type": "code",
      "metadata": {
        "id": "wBgAhrNqsWMU",
        "colab_type": "code",
        "colab": {
          "base_uri": "https://localhost:8080/",
          "height": 34
        },
        "outputId": "a46a944f-fbc8-49a1-ebc0-8733f2136c86"
      },
      "source": [
        "n_most_common_words = 2000\n",
        "max_len = 170\n",
        "tokenizer = Tokenizer(num_words=n_most_common_words, filters='!\"#$%&()*+,-./:;<=>?@[\\]^_`{|}~', lower=True)\n",
        "tokenizer.fit_on_texts(df['text'].values)\n",
        "sequences = tokenizer.texts_to_sequences(df['text'].values)\n",
        "word_index = tokenizer.word_index\n",
        "print('Found %s unique tokens.' % len(word_index))\n",
        "\n",
        "X = pad_sequences(sequences, maxlen=max_len)"
      ],
      "execution_count": 36,
      "outputs": [
        {
          "output_type": "stream",
          "text": [
            "Found 3675 unique tokens.\n"
          ],
          "name": "stdout"
        }
      ]
    },
    {
      "cell_type": "code",
      "metadata": {
        "id": "5t_VDkwv4woy",
        "colab_type": "code",
        "colab": {}
      },
      "source": [
        " embedding_dim = 50\n",
        "embedding_matrix = create_embedding_matrix('/content/drive/My Drive/NLP/Embeddings/GLOVE/glove.txt',tokenizer.word_index, embedding_dim)"
      ],
      "execution_count": 37,
      "outputs": []
    },
    {
      "cell_type": "code",
      "metadata": {
        "id": "8eflsX4G5BYG",
        "colab_type": "code",
        "colab": {
          "base_uri": "https://localhost:8080/",
          "height": 34
        },
        "outputId": "3cedfeea-8fff-482d-df2d-3477874c3b02"
      },
      "source": [
        "vocab_size = len(tokenizer.word_index) + 1  \n",
        "nonzero_elements = np.count_nonzero(np.count_nonzero(embedding_matrix, axis=1))\n",
        "nonzero_elements/vocab_size"
      ],
      "execution_count": 38,
      "outputs": [
        {
          "output_type": "execute_result",
          "data": {
            "text/plain": [
              "0.9806855277475517"
            ]
          },
          "metadata": {
            "tags": []
          },
          "execution_count": 38
        }
      ]
    },
    {
      "cell_type": "code",
      "metadata": {
        "id": "FG4c2asOtelX",
        "colab_type": "code",
        "colab": {}
      },
      "source": [
        "X_train, X_test, y_train, y_test = train_test_split(X , labels, test_size=0.15, random_state=42)"
      ],
      "execution_count": 39,
      "outputs": []
    },
    {
      "cell_type": "code",
      "metadata": {
        "id": "0-4NCCg_tk7H",
        "colab_type": "code",
        "colab": {
          "base_uri": "https://localhost:8080/",
          "height": 52
        },
        "outputId": "999a7f0a-2ff4-4387-e9d2-6129c04c1365"
      },
      "source": [
        "epochs = 30\n",
        "batch_size = 32\n",
        "labels[:2]"
      ],
      "execution_count": 40,
      "outputs": [
        {
          "output_type": "execute_result",
          "data": {
            "text/plain": [
              "array([[1., 0., 0., 0., 0.],\n",
              "       [0., 1., 0., 0., 0.]], dtype=float32)"
            ]
          },
          "metadata": {
            "tags": []
          },
          "execution_count": 40
        }
      ]
    },
    {
      "cell_type": "code",
      "metadata": {
        "id": "-ChH5BvDtob1",
        "colab_type": "code",
        "colab": {
          "base_uri": "https://localhost:8080/",
          "height": 1000
        },
        "outputId": "dee88aab-d4bc-4cc6-ccc3-5f61ef0759bb"
      },
      "source": [
        "print((X_train.shape, y_train.shape, X_test.shape, y_test.shape))\n",
        "\n",
        "model = Sequential()\n",
        "model.add(Embedding(vocab_size, embedding_dim, weights=[embedding_matrix], input_length=170,trainable=False))\n",
        "model.add(SpatialDropout1D(0.7))\n",
        "model.add(Bidirectional(LSTM(64, dropout=0.7, recurrent_dropout=0.7,return_sequences=True)))\n",
        "model.add(LSTM(32))\n",
        "model.add(Dense(20,activation='relu'))\n",
        "model.add(Dense(5, activation='softmax'))\n",
        "model.compile(optimizer='adam', loss='categorical_crossentropy', metrics=['acc'])\n",
        "print(model.summary())\n",
        "history = model.fit(X_train, y_train, epochs=epochs, batch_size=batch_size,validation_split=0.2,callbacks=[EarlyStopping(monitor='val_loss',patience=7, min_delta=0.0001)])"
      ],
      "execution_count": 42,
      "outputs": [
        {
          "output_type": "stream",
          "text": [
            "((1260, 170), (1260, 5), (223, 170), (223, 5))\n",
            "Model: \"sequential_2\"\n",
            "_________________________________________________________________\n",
            "Layer (type)                 Output Shape              Param #   \n",
            "=================================================================\n",
            "embedding_2 (Embedding)      (None, 170, 50)           183800    \n",
            "_________________________________________________________________\n",
            "spatial_dropout1d_2 (Spatial (None, 170, 50)           0         \n",
            "_________________________________________________________________\n",
            "bidirectional_2 (Bidirection (None, 170, 128)          58880     \n",
            "_________________________________________________________________\n",
            "lstm_4 (LSTM)                (None, 32)                20608     \n",
            "_________________________________________________________________\n",
            "dense_3 (Dense)              (None, 20)                660       \n",
            "_________________________________________________________________\n",
            "dense_4 (Dense)              (None, 5)                 105       \n",
            "=================================================================\n",
            "Total params: 264,053\n",
            "Trainable params: 80,253\n",
            "Non-trainable params: 183,800\n",
            "_________________________________________________________________\n",
            "None\n",
            "Train on 1008 samples, validate on 252 samples\n",
            "Epoch 1/30\n",
            "1008/1008 [==============================] - 45s 44ms/step - loss: 1.5245 - acc: 0.3581 - val_loss: 1.3642 - val_acc: 0.4524\n",
            "Epoch 2/30\n",
            "1008/1008 [==============================] - 42s 42ms/step - loss: 1.3370 - acc: 0.4028 - val_loss: 1.2978 - val_acc: 0.3770\n",
            "Epoch 3/30\n",
            "1008/1008 [==============================] - 43s 43ms/step - loss: 1.2519 - acc: 0.4236 - val_loss: 1.2200 - val_acc: 0.3770\n",
            "Epoch 4/30\n",
            "1008/1008 [==============================] - 41s 41ms/step - loss: 1.2224 - acc: 0.4266 - val_loss: 1.2209 - val_acc: 0.3770\n",
            "Epoch 5/30\n",
            "1008/1008 [==============================] - 41s 41ms/step - loss: 1.2162 - acc: 0.4296 - val_loss: 1.2041 - val_acc: 0.3770\n",
            "Epoch 6/30\n",
            "1008/1008 [==============================] - 42s 42ms/step - loss: 1.2133 - acc: 0.4365 - val_loss: 1.1833 - val_acc: 0.4802\n",
            "Epoch 7/30\n",
            "1008/1008 [==============================] - 41s 41ms/step - loss: 1.2047 - acc: 0.4484 - val_loss: 1.1571 - val_acc: 0.5040\n",
            "Epoch 8/30\n",
            "1008/1008 [==============================] - 43s 43ms/step - loss: 1.2078 - acc: 0.4425 - val_loss: 1.1643 - val_acc: 0.4603\n",
            "Epoch 9/30\n",
            "1008/1008 [==============================] - 41s 41ms/step - loss: 1.1864 - acc: 0.4702 - val_loss: 1.1006 - val_acc: 0.5437\n",
            "Epoch 10/30\n",
            "1008/1008 [==============================] - 42s 42ms/step - loss: 1.1564 - acc: 0.4940 - val_loss: 1.0337 - val_acc: 0.6071\n",
            "Epoch 11/30\n",
            "1008/1008 [==============================] - 43s 43ms/step - loss: 1.1447 - acc: 0.5169 - val_loss: 1.0443 - val_acc: 0.5873\n",
            "Epoch 12/30\n",
            "1008/1008 [==============================] - 41s 41ms/step - loss: 1.1438 - acc: 0.5208 - val_loss: 0.9859 - val_acc: 0.6349\n",
            "Epoch 13/30\n",
            "1008/1008 [==============================] - 41s 41ms/step - loss: 1.1567 - acc: 0.5030 - val_loss: 1.0034 - val_acc: 0.6310\n",
            "Epoch 14/30\n",
            "1008/1008 [==============================] - 42s 42ms/step - loss: 1.1144 - acc: 0.5278 - val_loss: 1.0496 - val_acc: 0.5873\n",
            "Epoch 15/30\n",
            "1008/1008 [==============================] - 42s 42ms/step - loss: 1.1169 - acc: 0.5288 - val_loss: 0.9478 - val_acc: 0.6190\n",
            "Epoch 16/30\n",
            "1008/1008 [==============================] - 41s 41ms/step - loss: 1.0847 - acc: 0.5516 - val_loss: 0.9025 - val_acc: 0.6627\n",
            "Epoch 17/30\n",
            "1008/1008 [==============================] - 42s 42ms/step - loss: 1.0729 - acc: 0.5694 - val_loss: 0.9068 - val_acc: 0.6468\n",
            "Epoch 18/30\n",
            "1008/1008 [==============================] - 42s 42ms/step - loss: 1.0824 - acc: 0.5565 - val_loss: 0.8955 - val_acc: 0.6587\n",
            "Epoch 19/30\n",
            "1008/1008 [==============================] - 42s 42ms/step - loss: 1.0494 - acc: 0.5754 - val_loss: 0.8914 - val_acc: 0.6548\n",
            "Epoch 20/30\n",
            "1008/1008 [==============================] - 41s 41ms/step - loss: 1.0372 - acc: 0.5734 - val_loss: 0.8447 - val_acc: 0.6627\n",
            "Epoch 21/30\n",
            "1008/1008 [==============================] - 41s 41ms/step - loss: 1.0203 - acc: 0.5903 - val_loss: 0.8462 - val_acc: 0.6548\n",
            "Epoch 22/30\n",
            "1008/1008 [==============================] - 40s 40ms/step - loss: 1.0077 - acc: 0.5823 - val_loss: 0.8238 - val_acc: 0.6706\n",
            "Epoch 23/30\n",
            "1008/1008 [==============================] - 41s 41ms/step - loss: 0.9866 - acc: 0.6042 - val_loss: 0.7830 - val_acc: 0.6825\n",
            "Epoch 24/30\n",
            "1008/1008 [==============================] - 40s 39ms/step - loss: 0.9666 - acc: 0.6131 - val_loss: 0.7586 - val_acc: 0.6825\n",
            "Epoch 25/30\n",
            "1008/1008 [==============================] - 41s 41ms/step - loss: 0.9396 - acc: 0.6379 - val_loss: 0.7297 - val_acc: 0.6905\n",
            "Epoch 26/30\n",
            "1008/1008 [==============================] - 41s 41ms/step - loss: 0.9445 - acc: 0.6190 - val_loss: 0.7051 - val_acc: 0.7024\n",
            "Epoch 27/30\n",
            "1008/1008 [==============================] - 41s 41ms/step - loss: 0.9089 - acc: 0.6498 - val_loss: 0.7548 - val_acc: 0.7103\n",
            "Epoch 28/30\n",
            "1008/1008 [==============================] - 41s 40ms/step - loss: 0.9371 - acc: 0.6250 - val_loss: 0.7013 - val_acc: 0.6865\n",
            "Epoch 29/30\n",
            "1008/1008 [==============================] - 41s 40ms/step - loss: 0.8895 - acc: 0.6409 - val_loss: 0.6710 - val_acc: 0.7063\n",
            "Epoch 30/30\n",
            "1008/1008 [==============================] - 39s 39ms/step - loss: 0.9030 - acc: 0.6429 - val_loss: 0.7045 - val_acc: 0.7103\n"
          ],
          "name": "stdout"
        }
      ]
    },
    {
      "cell_type": "code",
      "metadata": {
        "id": "krM-cYgv56JF",
        "colab_type": "code",
        "colab": {
          "base_uri": "https://localhost:8080/",
          "height": 1000
        },
        "outputId": "987bfa18-7a91-45b1-8d13-b6c327167782"
      },
      "source": [
        "print((X_train.shape, y_train.shape, X_test.shape, y_test.shape))\n",
        "\n",
        "model1 = Sequential()\n",
        "model1.add(Embedding(vocab_size, embedding_dim, weights=[embedding_matrix], input_length=170,trainable=True))\n",
        "model1.add(SpatialDropout1D(0.7))\n",
        "model1.add(Bidirectional(LSTM(64, dropout=0.7, recurrent_dropout=0.7,return_sequences=True)))\n",
        "model1.add(LSTM(32))\n",
        "model1.add(Dense(20,activation='relu'))\n",
        "model1.add(Dense(5, activation='softmax'))\n",
        "model1.compile(optimizer='adam', loss='categorical_crossentropy', metrics=['acc'])\n",
        "print(model1.summary())\n",
        "history1 = model1.fit(X_train, y_train, epochs=epochs, batch_size=batch_size,validation_split=0.2,callbacks=[EarlyStopping(monitor='val_loss',patience=7, min_delta=0.0001)])"
      ],
      "execution_count": 43,
      "outputs": [
        {
          "output_type": "stream",
          "text": [
            "((1260, 170), (1260, 5), (223, 170), (223, 5))\n",
            "Model: \"sequential_3\"\n",
            "_________________________________________________________________\n",
            "Layer (type)                 Output Shape              Param #   \n",
            "=================================================================\n",
            "embedding_3 (Embedding)      (None, 170, 50)           183800    \n",
            "_________________________________________________________________\n",
            "spatial_dropout1d_3 (Spatial (None, 170, 50)           0         \n",
            "_________________________________________________________________\n",
            "bidirectional_3 (Bidirection (None, 170, 128)          58880     \n",
            "_________________________________________________________________\n",
            "lstm_6 (LSTM)                (None, 32)                20608     \n",
            "_________________________________________________________________\n",
            "dense_5 (Dense)              (None, 20)                660       \n",
            "_________________________________________________________________\n",
            "dense_6 (Dense)              (None, 5)                 105       \n",
            "=================================================================\n",
            "Total params: 264,053\n",
            "Trainable params: 264,053\n",
            "Non-trainable params: 0\n",
            "_________________________________________________________________\n",
            "None\n",
            "Train on 1008 samples, validate on 252 samples\n",
            "Epoch 1/30\n",
            "1008/1008 [==============================] - 45s 44ms/step - loss: 1.4046 - acc: 0.3829 - val_loss: 1.2670 - val_acc: 0.3770\n",
            "Epoch 2/30\n",
            "1008/1008 [==============================] - 46s 45ms/step - loss: 1.2383 - acc: 0.4286 - val_loss: 1.2137 - val_acc: 0.4405\n",
            "Epoch 3/30\n",
            "1008/1008 [==============================] - 43s 43ms/step - loss: 1.2294 - acc: 0.4415 - val_loss: 1.2050 - val_acc: 0.4048\n",
            "Epoch 4/30\n",
            "1008/1008 [==============================] - 43s 43ms/step - loss: 1.2074 - acc: 0.4494 - val_loss: 1.1774 - val_acc: 0.4444\n",
            "Epoch 5/30\n",
            "1008/1008 [==============================] - 44s 44ms/step - loss: 1.1903 - acc: 0.4663 - val_loss: 1.1059 - val_acc: 0.5476\n",
            "Epoch 6/30\n",
            "1008/1008 [==============================] - 43s 43ms/step - loss: 1.1829 - acc: 0.4831 - val_loss: 1.0556 - val_acc: 0.5992\n",
            "Epoch 7/30\n",
            "1008/1008 [==============================] - 45s 44ms/step - loss: 1.1354 - acc: 0.5179 - val_loss: 0.9855 - val_acc: 0.6151\n",
            "Epoch 8/30\n",
            "1008/1008 [==============================] - 43s 43ms/step - loss: 1.1182 - acc: 0.5337 - val_loss: 0.9209 - val_acc: 0.6349\n",
            "Epoch 9/30\n",
            "1008/1008 [==============================] - 43s 43ms/step - loss: 1.0650 - acc: 0.5645 - val_loss: 0.8727 - val_acc: 0.6508\n",
            "Epoch 10/30\n",
            "1008/1008 [==============================] - 44s 44ms/step - loss: 1.0276 - acc: 0.5933 - val_loss: 0.8305 - val_acc: 0.6667\n",
            "Epoch 11/30\n",
            "1008/1008 [==============================] - 44s 43ms/step - loss: 0.9899 - acc: 0.6141 - val_loss: 0.7815 - val_acc: 0.6825\n",
            "Epoch 12/30\n",
            "1008/1008 [==============================] - 44s 44ms/step - loss: 0.9675 - acc: 0.6329 - val_loss: 0.7185 - val_acc: 0.7183\n",
            "Epoch 13/30\n",
            "1008/1008 [==============================] - 43s 43ms/step - loss: 0.9021 - acc: 0.6429 - val_loss: 0.7414 - val_acc: 0.6984\n",
            "Epoch 14/30\n",
            "1008/1008 [==============================] - 43s 43ms/step - loss: 0.8705 - acc: 0.6696 - val_loss: 0.6464 - val_acc: 0.7698\n",
            "Epoch 15/30\n",
            "1008/1008 [==============================] - 45s 44ms/step - loss: 0.8527 - acc: 0.6766 - val_loss: 0.5778 - val_acc: 0.8175\n",
            "Epoch 16/30\n",
            "1008/1008 [==============================] - 44s 44ms/step - loss: 0.8167 - acc: 0.6954 - val_loss: 0.5571 - val_acc: 0.8294\n",
            "Epoch 17/30\n",
            "1008/1008 [==============================] - 45s 45ms/step - loss: 0.7650 - acc: 0.7113 - val_loss: 0.5164 - val_acc: 0.8373\n",
            "Epoch 18/30\n",
            "1008/1008 [==============================] - 45s 44ms/step - loss: 0.7538 - acc: 0.7272 - val_loss: 0.5181 - val_acc: 0.8373\n",
            "Epoch 19/30\n",
            "1008/1008 [==============================] - 44s 43ms/step - loss: 0.6932 - acc: 0.7589 - val_loss: 0.5071 - val_acc: 0.8373\n",
            "Epoch 20/30\n",
            "1008/1008 [==============================] - 44s 44ms/step - loss: 0.6727 - acc: 0.7619 - val_loss: 0.4828 - val_acc: 0.8373\n",
            "Epoch 21/30\n",
            "1008/1008 [==============================] - 44s 43ms/step - loss: 0.6527 - acc: 0.7500 - val_loss: 0.5104 - val_acc: 0.8333\n",
            "Epoch 22/30\n",
            "1008/1008 [==============================] - 44s 44ms/step - loss: 0.6417 - acc: 0.7778 - val_loss: 0.4688 - val_acc: 0.8413\n",
            "Epoch 23/30\n",
            "1008/1008 [==============================] - 44s 44ms/step - loss: 0.6648 - acc: 0.7589 - val_loss: 0.4656 - val_acc: 0.8413\n",
            "Epoch 24/30\n",
            "1008/1008 [==============================] - 45s 44ms/step - loss: 0.6110 - acc: 0.7857 - val_loss: 0.4354 - val_acc: 0.8532\n",
            "Epoch 25/30\n",
            "1008/1008 [==============================] - 44s 43ms/step - loss: 0.5817 - acc: 0.8115 - val_loss: 0.4274 - val_acc: 0.8492\n",
            "Epoch 26/30\n",
            "1008/1008 [==============================] - 44s 44ms/step - loss: 0.5482 - acc: 0.8016 - val_loss: 0.3818 - val_acc: 0.8571\n",
            "Epoch 27/30\n",
            "1008/1008 [==============================] - 44s 43ms/step - loss: 0.5582 - acc: 0.7976 - val_loss: 0.4059 - val_acc: 0.8730\n",
            "Epoch 28/30\n",
            "1008/1008 [==============================] - 44s 44ms/step - loss: 0.5826 - acc: 0.8056 - val_loss: 0.3620 - val_acc: 0.8889\n",
            "Epoch 29/30\n",
            "1008/1008 [==============================] - 45s 45ms/step - loss: 0.5259 - acc: 0.8145 - val_loss: 0.3684 - val_acc: 0.8730\n",
            "Epoch 30/30\n",
            "1008/1008 [==============================] - 45s 44ms/step - loss: 0.5578 - acc: 0.8115 - val_loss: 0.3069 - val_acc: 0.9127\n"
          ],
          "name": "stdout"
        }
      ]
    },
    {
      "cell_type": "code",
      "metadata": {
        "id": "ZCcH9AuttrY0",
        "colab_type": "code",
        "colab": {
          "base_uri": "https://localhost:8080/",
          "height": 158
        },
        "outputId": "e831c627-7c91-404a-8f42-14d94bf61010"
      },
      "source": [
        "accr = model.evaluate(X_test,y_test)\n",
        "print('Test set\\n  Loss: {:0.3f}\\n  Accuracy: {:0.3f}'.format(accr[0],accr[1]))\n",
        "accr1 = model1.evaluate(X_test,y_test)\n",
        "print('Test set\\n  Loss: {:0.3f}\\n  Accuracy: {:0.3f}'.format(accr[0],accr[1]))"
      ],
      "execution_count": 44,
      "outputs": [
        {
          "output_type": "stream",
          "text": [
            "223/223 [==============================] - 1s 3ms/step\n",
            "Test set\n",
            "  Loss: 0.684\n",
            "  Accuracy: 0.717\n",
            "223/223 [==============================] - 1s 3ms/step\n",
            "Test set\n",
            "  Loss: 0.684\n",
            "  Accuracy: 0.717\n"
          ],
          "name": "stdout"
        }
      ]
    },
    {
      "cell_type": "code",
      "metadata": {
        "id": "NVFrspGKvNKT",
        "colab_type": "code",
        "colab": {
          "base_uri": "https://localhost:8080/",
          "height": 544
        },
        "outputId": "49a88ace-81b8-4829-8cbe-1b0a936fc590"
      },
      "source": [
        "import matplotlib.pyplot as plt\n",
        "\n",
        "acc = history.history['acc']\n",
        "val_acc = history.history['val_acc']\n",
        "loss = history.history['loss']\n",
        "val_loss = history.history['val_loss']\n",
        "\n",
        "epochs = range(1, len(acc) + 1)\n",
        "\n",
        "plt.plot(epochs, acc, 'bo', label='Training acc')\n",
        "plt.plot(epochs, val_acc, 'b', label='Validation acc')\n",
        "plt.title('Training and validation accuracy')\n",
        "plt.legend()\n",
        "\n",
        "plt.figure()\n",
        "\n",
        "plt.plot(epochs, loss, 'bo', label='Training loss')\n",
        "plt.plot(epochs, val_loss, 'b', label='Validation loss')\n",
        "plt.title('Training and validation loss')\n",
        "plt.legend()\n",
        "\n",
        "plt.show()"
      ],
      "execution_count": 78,
      "outputs": [
        {
          "output_type": "display_data",
          "data": {
            "image/png": "[encoded data removed]",
            "text/plain": [
              "<Figure size 432x288 with 1 Axes>"
            ]
          },
          "metadata": {
            "tags": [],
            "needs_background": "light"
          }
        },
        {
          "output_type": "display_data",
          "data": {
            "image/png": "[encoded data removed]",
            "text/plain": [
              "<Figure size 432x288 with 1 Axes>"
            ]
          },
          "metadata": {
            "tags": [],
            "needs_background": "light"
          }
        }
      ]
    },
    {
      "cell_type": "code",
      "metadata": {
        "id": "qgZpJvkQvPh2",
        "colab_type": "code",
        "colab": {
          "base_uri": "https://localhost:8080/",
          "height": 34
        },
        "outputId": "d5350c81-2717-457c-82c6-c0ffc0de31b3"
      },
      "source": [
        "txt = [\"can i eat ?\"]\n",
        "seq = tokenizer.texts_to_sequences(txt)\n",
        "padded = pad_sequences(seq, maxlen=max_len)\n",
        "pred = model.predict(padded)\n",
        "labels = ['unknown', 'what', 'when', 'who','affirmation']\n",
        "print(pred, labels[np.argmax(pred)])"
      ],
      "execution_count": 45,
      "outputs": [
        {
          "output_type": "stream",
          "text": [
            "[[1.2997484e-01 2.1684241e-01 2.3713519e-01 4.1568887e-01 3.5865625e-04]] who\n"
          ],
          "name": "stdout"
        }
      ]
    },
    {
      "cell_type": "code",
      "metadata": {
        "id": "jyHNIvIq6UTy",
        "colab_type": "code",
        "colab": {
          "base_uri": "https://localhost:8080/",
          "height": 34
        },
        "outputId": "e85564c3-b61e-4d4e-ac78-71033b692994"
      },
      "source": [
        "txt = [\"can i eat ?\"]\n",
        "seq = tokenizer.texts_to_sequences(txt)\n",
        "padded = pad_sequences(seq, maxlen=max_len)\n",
        "pred = model1.predict(padded)\n",
        "labels = ['unknown', 'what', 'when', 'who','affirmation']\n",
        "print(pred, labels[np.argmax(pred)])"
      ],
      "execution_count": 46,
      "outputs": [
        {
          "output_type": "stream",
          "text": [
            "[[1.6118059e-01 1.4193811e-02 8.3961561e-02 7.4057835e-01 8.5735388e-05]] who\n"
          ],
          "name": "stdout"
        }
      ]
    },
    {
      "cell_type": "code",
      "metadata": {
        "id": "DXXtw_G1vfYE",
        "colab_type": "code",
        "colab": {}
      },
      "source": [
        "preds = model.predict(X_test)\n",
        "preds = (preds > 0.5)\n",
        "preds1 = model1.predict(X_test)\n",
        "preds1 = (preds1 > 0.5)"
      ],
      "execution_count": 47,
      "outputs": []
    },
    {
      "cell_type": "code",
      "metadata": {
        "id": "acV75wDrk438",
        "colab_type": "code",
        "colab": {
          "base_uri": "https://localhost:8080/",
          "height": 478
        },
        "outputId": "d6f07be8-71bd-4aee-ec3e-e11dcce617f9"
      },
      "source": [
        "from sklearn.metrics import classification_report\n",
        "print(classification_report(y_test,preds))\n",
        "print(classification_report(y_test,preds1))"
      ],
      "execution_count": 48,
      "outputs": [
        {
          "output_type": "stream",
          "text": [
            "              precision    recall  f1-score   support\n",
            "\n",
            "           0       0.00      0.00      0.00        42\n",
            "           1       0.78      0.91      0.84        86\n",
            "           2       0.00      0.00      0.00        13\n",
            "           3       0.79      0.83      0.81        82\n",
            "           4       0.00      0.00      0.00         0\n",
            "\n",
            "   micro avg       0.78      0.65      0.71       223\n",
            "   macro avg       0.31      0.35      0.33       223\n",
            "weighted avg       0.59      0.65      0.62       223\n",
            " samples avg       0.65      0.65      0.65       223\n",
            "\n",
            "              precision    recall  f1-score   support\n",
            "\n",
            "           0       0.97      0.76      0.85        42\n",
            "           1       0.96      0.99      0.97        86\n",
            "           2       1.00      0.08      0.14        13\n",
            "           3       0.87      0.98      0.92        82\n",
            "           4       0.00      0.00      0.00         0\n",
            "\n",
            "   micro avg       0.92      0.89      0.90       223\n",
            "   macro avg       0.76      0.56      0.58       223\n",
            "weighted avg       0.93      0.89      0.88       223\n",
            " samples avg       0.89      0.89      0.89       223\n",
            "\n"
          ],
          "name": "stdout"
        }
      ]
    },
    {
      "cell_type": "code",
      "metadata": {
        "id": "NTZmXfFhlBy2",
        "colab_type": "code",
        "colab": {}
      },
      "source": [
        "def predict_sentences(s):\n",
        "    seq = tokenizer.texts_to_sequences(s)\n",
        "    padded = pad_sequences(seq, maxlen=max_len)\n",
        "    pred = model1.predict(padded)\n",
        "    labels = ['unknown', 'what', 'when', 'who','affirmation']\n",
        "    preds = [labels[i] for i in np.argmax(pred,1)]\n",
        "    return preds"
      ],
      "execution_count": 92,
      "outputs": []
    },
    {
      "cell_type": "code",
      "metadata": {
        "id": "-OjUuR94JFqk",
        "colab_type": "code",
        "colab": {}
      },
      "source": [
        "a = predict_sentences(['who are you?','what time does the train leave?','when is the match?'])"
      ],
      "execution_count": 93,
      "outputs": []
    },
    {
      "cell_type": "code",
      "metadata": {
        "id": "cMz6KUtaOaa3",
        "colab_type": "code",
        "colab": {
          "base_uri": "https://localhost:8080/",
          "height": 34
        },
        "outputId": "508b9f1b-be3c-4580-b5a5-70bfc6e17753"
      },
      "source": [
        "a"
      ],
      "execution_count": 94,
      "outputs": [
        {
          "output_type": "execute_result",
          "data": {
            "text/plain": [
              "['who', 'what', 'who']"
            ]
          },
          "metadata": {
            "tags": []
          },
          "execution_count": 94
        }
      ]
    },
    {
      "cell_type": "code",
      "metadata": {
        "id": "FNwSsPE5QR0I",
        "colab_type": "code",
        "colab": {}
      },
      "source": [
        ""
      ],
      "execution_count": null,
      "outputs": []
    }
  ]
}