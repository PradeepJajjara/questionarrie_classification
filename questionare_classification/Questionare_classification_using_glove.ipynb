{
 "cells": [
  {
   "cell_type": "code",
   "execution_count": 1,
   "metadata": {
    "colab": {},
    "colab_type": "code",
    "id": "NzXIe4uR-IRf"
   },
   "outputs": [],
   "source": [
    "data = 'LabelledData (1).txt'"
   ]
  },
  {
   "cell_type": "code",
   "execution_count": 2,
   "metadata": {
    "colab": {
     "base_uri": "https://localhost:8080/",
     "height": 52
    },
    "colab_type": "code",
    "id": "pUZwrd5PCJfc",
    "outputId": "e0b189bf-75c4-49b7-8f11-a0c422ee7f18"
   },
   "outputs": [],
   "source": [
    "import pandas as pd\n",
    "import warnings\n",
    "warnings.filterwarnings(\"ignore\")\n",
    "import numpy as np \n",
    "import matplotlib.pyplot as plt\n",
    "import seaborn as sns\n",
    "import gensim\n",
    "import operator\n",
    "import string\n",
    "import random\n",
    "from sklearn.preprocessing import LabelEncoder\n",
    "from sklearn.metrics import classification_report\n",
    "from sklearn.linear_model import LogisticRegression"
   ]
  },
  {
   "cell_type": "markdown",
   "metadata": {
    "colab_type": "text",
    "id": "iH-jLRiOn6EX"
   },
   "source": [
    "Add a length column for visualization purposee"
   ]
  },
  {
   "cell_type": "code",
   "execution_count": 3,
   "metadata": {
    "colab": {
     "base_uri": "https://localhost:8080/",
     "height": 72
    },
    "colab_type": "code",
    "id": "zhAOdL1OCQTV",
    "outputId": "4fe16836-ed32-4d89-e12b-997468b224ad"
   },
   "outputs": [],
   "source": [
    "df = pd.read_table(data,  sep = ',,,',names=['text','label'],index_col=False)\n",
    "df['length'] = df['text'].apply(len)"
   ]
  },
  {
   "cell_type": "code",
   "execution_count": 4,
   "metadata": {
    "colab": {
     "base_uri": "https://localhost:8080/",
     "height": 197
    },
    "colab_type": "code",
    "id": "q4891U0UCXDk",
    "outputId": "bc35f762-fb10-4263-9b11-46770b6b443e"
   },
   "outputs": [
    {
     "data": {
      "text/html": [
       "<div>\n",
       "<style scoped>\n",
       "    .dataframe tbody tr th:only-of-type {\n",
       "        vertical-align: middle;\n",
       "    }\n",
       "\n",
       "    .dataframe tbody tr th {\n",
       "        vertical-align: top;\n",
       "    }\n",
       "\n",
       "    .dataframe thead th {\n",
       "        text-align: right;\n",
       "    }\n",
       "</style>\n",
       "<table border=\"1\" class=\"dataframe\">\n",
       "  <thead>\n",
       "    <tr style=\"text-align: right;\">\n",
       "      <th></th>\n",
       "      <th>text</th>\n",
       "      <th>label</th>\n",
       "      <th>length</th>\n",
       "    </tr>\n",
       "  </thead>\n",
       "  <tbody>\n",
       "    <tr>\n",
       "      <th>0</th>\n",
       "      <td>how did serfdom develop in and then leave russ...</td>\n",
       "      <td>unknown</td>\n",
       "      <td>51</td>\n",
       "    </tr>\n",
       "    <tr>\n",
       "      <th>1</th>\n",
       "      <td>what films featured the character popeye doyle ?</td>\n",
       "      <td>what</td>\n",
       "      <td>49</td>\n",
       "    </tr>\n",
       "    <tr>\n",
       "      <th>2</th>\n",
       "      <td>how can i find a list of celebrities ' real na...</td>\n",
       "      <td>unknown</td>\n",
       "      <td>52</td>\n",
       "    </tr>\n",
       "    <tr>\n",
       "      <th>3</th>\n",
       "      <td>what fowl grabs the spotlight after the chines...</td>\n",
       "      <td>what</td>\n",
       "      <td>69</td>\n",
       "    </tr>\n",
       "    <tr>\n",
       "      <th>4</th>\n",
       "      <td>what is the full form of .com ?</td>\n",
       "      <td>what</td>\n",
       "      <td>32</td>\n",
       "    </tr>\n",
       "  </tbody>\n",
       "</table>\n",
       "</div>"
      ],
      "text/plain": [
       "                                                text     label  length\n",
       "0  how did serfdom develop in and then leave russ...   unknown      51\n",
       "1  what films featured the character popeye doyle ?       what      49\n",
       "2  how can i find a list of celebrities ' real na...   unknown      52\n",
       "3  what fowl grabs the spotlight after the chines...      what      69\n",
       "4                   what is the full form of .com ?       what      32"
      ]
     },
     "execution_count": 4,
     "metadata": {},
     "output_type": "execute_result"
    }
   ],
   "source": [
    "df.head()"
   ]
  },
  {
   "cell_type": "code",
   "execution_count": 5,
   "metadata": {
    "colab": {
     "base_uri": "https://localhost:8080/",
     "height": 332
    },
    "colab_type": "code",
    "id": "YACyQUXwCYTT",
    "outputId": "c17b27ff-5b8e-41c6-bec7-a5a3b98d684b"
   },
   "outputs": [
    {
     "data": {
      "text/plain": [
       "<matplotlib.axes._subplots.AxesSubplot at 0x1dd34e39bc8>"
      ]
     },
     "execution_count": 5,
     "metadata": {},
     "output_type": "execute_result"
    },
    {
     "data": {
      "image/png": "[encoded data removed]",
      "text/plain": [
       "<Figure size 432x288 with 1 Axes>"
      ]
     },
     "metadata": {
      "needs_background": "light"
     },
     "output_type": "display_data"
    }
   ],
   "source": [
    "df.label.value_counts().plot(kind='bar')"
   ]
  },
  {
   "cell_type": "markdown",
   "metadata": {
    "colab_type": "text",
    "id": "DLKW2kteoCXu"
   },
   "source": [
    "Some have white spaces so remove them"
   ]
  },
  {
   "cell_type": "code",
   "execution_count": 6,
   "metadata": {
    "colab": {},
    "colab_type": "code",
    "id": "8t0YiM5Seq8q"
   },
   "outputs": [],
   "source": [
    "df.label = df.label.str.strip()"
   ]
  },
  {
   "cell_type": "code",
   "execution_count": 7,
   "metadata": {
    "colab": {
     "base_uri": "https://localhost:8080/",
     "height": 327
    },
    "colab_type": "code",
    "id": "KF6dJuREjmhc",
    "outputId": "6f08734e-b028-465a-d060-3d78def0f519"
   },
   "outputs": [
    {
     "data": {
      "text/plain": [
       "<matplotlib.axes._subplots.AxesSubplot at 0x1dd4aa3ba88>"
      ]
     },
     "execution_count": 7,
     "metadata": {},
     "output_type": "execute_result"
    },
    {
     "data": {
      "image/png": "[encoded data removed]",
      "text/plain": [
       "<Figure size 432x288 with 1 Axes>"
      ]
     },
     "metadata": {
      "needs_background": "light"
     },
     "output_type": "display_data"
    }
   ],
   "source": [
    "df.label.value_counts().plot(kind='bar')"
   ]
  },
  {
   "cell_type": "code",
   "execution_count": 8,
   "metadata": {
    "colab": {
     "base_uri": "https://localhost:8080/",
     "height": 282
    },
    "colab_type": "code",
    "id": "66CnhzoZjjCw",
    "outputId": "22a95e5b-343b-4364-a493-4d539cdf7ec7"
   },
   "outputs": [
    {
     "data": {
      "text/plain": [
       "<matplotlib.axes._subplots.AxesSubplot at 0x1dd4aac6f88>"
      ]
     },
     "execution_count": 8,
     "metadata": {},
     "output_type": "execute_result"
    },
    {
     "data": {
      "image/png": "[encoded data removed]",
      "text/plain": [
       "<Figure size 432x288 with 1 Axes>"
      ]
     },
     "metadata": {
      "needs_background": "light"
     },
     "output_type": "display_data"
    }
   ],
   "source": [
    "df['length'].plot(bins=50, kind='hist')"
   ]
  },
  {
   "cell_type": "markdown",
   "metadata": {
    "colab_type": "text",
    "id": "rQ3IOCHGoJMH"
   },
   "source": [
    "Max length is around 120"
   ]
  },
  {
   "cell_type": "code",
   "execution_count": 9,
   "metadata": {},
   "outputs": [],
   "source": [
    "word_vector_path = \"glove_new.txt\"\n",
    "vector_dim = 50\n",
    "# gensim.scripts.glove2word2vec.glove2word2vec(word_vector_path, \"data/glove2.txt\")\n",
    "word_vector = gensim.models.KeyedVectors.load_word2vec_format(\"glove.txt\", binary=False)"
   ]
  },
  {
   "cell_type": "code",
   "execution_count": 10,
   "metadata": {},
   "outputs": [],
   "source": [
    "def create_vector(question):\n",
    "    global word_vector\n",
    "    \n",
    "    splitted = question.split(\" \")\n",
    "    vector = np.zeros(vector_dim)\n",
    "    count = 2.0\n",
    "    try:\n",
    "        if len(splitted) == 0:\n",
    "            return vector\n",
    "        else:\n",
    "            vector = np.array(list(map(operator.add,word_vector[splitted[0].lower()],vector)))\n",
    "            if len(splitted) == 1:\n",
    "                return np.asarray(vector)\n",
    "            vector = np.array(list(map(operator.add,word_vector[splitted[1].lower()],vector)))\n",
    "            if (splitted[0].lower() == 'what' and\n",
    "                    splitted[1].lower() == 'is'):\n",
    "                count = 0.0\n",
    "                vector = np.zeros(vector_dim)\n",
    "                for token in splitted:\n",
    "                    count += 1\n",
    "                    try:\n",
    "                        vector = np.array(list(map(operator.add,word_vector[token.lower()],vector)))\n",
    "                    except KeyError:\n",
    "                        count -=1\n",
    "                if count == 0:\n",
    "                    return np.asarray(vector)\n",
    "                return np.asarray(vector) / count\n",
    "            return np.asarray(vector) / count\n",
    "    except KeyError:\n",
    "        return vector"
   ]
  },
  {
   "cell_type": "code",
   "execution_count": 11,
   "metadata": {},
   "outputs": [],
   "source": [
    "classes = list(df.label.unique())\n",
    "text = list(df.text.values)\n",
    "X = [create_vector(i) for i in text]\n",
    "encoder = LabelEncoder()\n",
    "encoder.fit(classes)\n",
    "Y = encoder.transform([i for i in list(df.label.values)])\n",
    "labels = classes"
   ]
  },
  {
   "cell_type": "code",
   "execution_count": 12,
   "metadata": {
    "colab": {
     "base_uri": "https://localhost:8080/",
     "height": 247
    },
    "colab_type": "code",
    "id": "iW3XjtdDSBAX",
    "outputId": "f503571a-b1b8-459d-d632-9d2906b752dd"
   },
   "outputs": [
    {
     "name": "stdout",
     "output_type": "stream",
     "text": [
      "              precision    recall  f1-score   support\n",
      "\n",
      "     unknown       0.96      0.94      0.95       104\n",
      "        what       0.91      0.84      0.87       272\n",
      "        when       0.93      0.95      0.94       609\n",
      "         who       0.91      0.97      0.94        96\n",
      " affirmation       0.99      1.00      0.99       402\n",
      "\n",
      "    accuracy                           0.94      1483\n",
      "   macro avg       0.94      0.94      0.94      1483\n",
      "weighted avg       0.94      0.94      0.94      1483\n",
      "\n"
     ]
    }
   ],
   "source": [
    "\n",
    "\n",
    "logreg = LogisticRegression(multi_class='multinomial',solver='lbfgs')\n",
    "logreg.fit(X, Y)\n",
    "\n",
    "\n",
    "\n",
    "y_pred = logreg.predict(X)\n",
    "\n",
    "print(classification_report(Y, y_pred,target_names=labels))\n",
    "\n",
    "def get_top_k_predictions(model,X_test,k):\n",
    "    probs = model.predict_proba(X_test)\n",
    "    best_n = np.argsort(probs, axis=1)[:,-k:]\n",
    "    preds=[[model.classes_[predicted_cat] for predicted_cat in prediction] for prediction in best_n]\n",
    "    preds=[ item[::-1] for item in preds]\n",
    "    return preds\n",
    " "
   ]
  },
  {
   "cell_type": "markdown",
   "metadata": {},
   "source": [
    "The weighted avg scores are 0.94(previous 0.96) but here the model is able to learn from embeddings not just words."
   ]
  },
  {
   "cell_type": "code",
   "execution_count": 13,
   "metadata": {
    "colab": {},
    "colab_type": "code",
    "id": "hnYdZHE4OZqs"
   },
   "outputs": [],
   "source": [
    "def predict_question(x):\n",
    "    if len(x)==1:\n",
    "        vector = create_vector(x[0].lower())\n",
    "        vector = [vector]\n",
    "    else:\n",
    "        vector = [create_vector(i.lower()) for i in x]\n",
    "    preds = logreg.predict(vector)\n",
    "    transformed_vector = encoder.inverse_transform(preds)\n",
    "    return transformed_vector"
   ]
  },
  {
   "cell_type": "code",
   "execution_count": 14,
   "metadata": {},
   "outputs": [
    {
     "data": {
      "text/plain": [
       "array(['who'], dtype='<U11')"
      ]
     },
     "execution_count": 14,
     "metadata": {},
     "output_type": "execute_result"
    }
   ],
   "source": [
    "predict_question(['who are you?'])"
   ]
  },
  {
   "cell_type": "code",
   "execution_count": 15,
   "metadata": {},
   "outputs": [
    {
     "data": {
      "text/plain": [
       "array(['what', 'when', 'affirmation', 'when'], dtype='<U11')"
      ]
     },
     "execution_count": 15,
     "metadata": {},
     "output_type": "execute_result"
    }
   ],
   "source": [
    "test_data = [\"What's your name?\", 'When is the show happening?', 'Is there a cab available for airport?', 'What time does the train leave?']\n",
    "predict_question(test_data)"
   ]
  },
  {
   "cell_type": "markdown",
   "metadata": {},
   "source": [
    "With the help of pre-trained embeddings we are able to predict the ambigious sentences also!. Deep learning is not best in this case due to lack of training data otherwise we may be able to get more precise predictions."
   ]
  },
  {
   "cell_type": "code",
   "execution_count": null,
   "metadata": {},
   "outputs": [],
   "source": []
  }
 ],
 "metadata": {
  "accelerator": "GPU",
  "colab": {
   "name": "Exposys.ipynb",
   "provenance": [],
   "toc_visible": true
  },
  "kernelspec": {
   "display_name": "Python 3",
   "language": "python",
   "name": "python3"
  },
  "language_info": {
   "codemirror_mode": {
    "name": "ipython",
    "version": 3
   },
   "file_extension": ".py",
   "mimetype": "text/x-python",
   "name": "python",
   "nbconvert_exporter": "python",
   "pygments_lexer": "ipython3",
   "version": "3.7.6"
  }
 },
 "nbformat": 4,
 "nbformat_minor": 1
}
